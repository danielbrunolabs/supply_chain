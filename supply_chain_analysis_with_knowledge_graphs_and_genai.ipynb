{
  "nbformat": 4,
  "nbformat_minor": 0,
  "metadata": {
    "colab": {
      "provenance": [],
      "authorship_tag": "ABX9TyPGWMIlAnh6ctpjgShIrD3X",
      "include_colab_link": true
    },
    "kernelspec": {
      "name": "python3",
      "display_name": "Python 3"
    },
    "language_info": {
      "name": "python"
    }
  },
  "cells": [
    {
      "cell_type": "markdown",
      "metadata": {
        "id": "view-in-github",
        "colab_type": "text"
      },
      "source": [
        "<a href=\"https://colab.research.google.com/github/danielbrunolabs/supply_chain/blob/main/supply_chain_analysis_with_knowledge_graphs_and_genai.ipynb\" target=\"_parent\"><img src=\"https://colab.research.google.com/assets/colab-badge.svg\" alt=\"Open In Colab\"/></a>"
      ]
    },
    {
      "cell_type": "code",
      "execution_count": 24,
      "metadata": {
        "id": "-0HC-oxUx_Nd"
      },
      "outputs": [],
      "source": [
        "from google.colab import userdata\n",
        "\n",
        "NEO4J_URI = userdata.get('NEO4J_URI') #https://console.neo4j.io/\n",
        "NEO4J_USER_NAME = userdata.get('NEO4J_USER_NAME')\n",
        "NEO4J_PASSWORD = userdata.get('NEO4J_PASSWORD')\n",
        "AZURE_OPEN_AI_KEY = userdata.get('AZURE_OPEN_AI_KEY')\n",
        "AZURE_OPENAI_ENDPOINT = userdata.get('AZURE_OPENAI_ENDPOINT')\n",
        "\n",
        "os.environ[\"AZURE_OPENAI_API_KEY\"] = AZURE_OPEN_AI_KEY\n",
        "os.environ[\"AZURE_OPENAI_ENDPOINT\"] = AZURE_OPENAI_ENDPOINT"
      ]
    },
    {
      "cell_type": "code",
      "source": [
        "%%capture\n",
        "%pip install pandas py2neo langchain langchain-openai langchain_community neo4j"
      ],
      "metadata": {
        "id": "QTLT43uUzPf4"
      },
      "execution_count": 25,
      "outputs": []
    },
    {
      "cell_type": "code",
      "source": [
        "import os\n",
        "from langchain.chat_models import AzureChatOpenAI\n",
        "from langchain.chains import GraphCypherQAChain\n",
        "from langchain.graphs import Neo4jGraph"
      ],
      "metadata": {
        "id": "owbBqa9Z0Jed"
      },
      "execution_count": 12,
      "outputs": []
    },
    {
      "cell_type": "code",
      "source": [
        "graph = Neo4jGraph(\n",
        "    url = NEO4J_URI,\n",
        "    username = NEO4J_USER_NAME,\n",
        "    password = NEO4J_PASSWORD\n",
        ")\n",
        "\n",
        "chain = GraphCypherQAChain.from_llm(\n",
        "    AzureChatOpenAI(temperature=0,\n",
        "                    azure_deployment=\"gpt-4o\",\n",
        "                    api_version=\"2024-02-15-preview\",\n",
        "                    max_tokens=None,\n",
        "                    timeout=None,\n",
        "                    max_retries=2),\n",
        "    allow_dangerous_requests = True,\n",
        "    graph = graph,\n",
        "    verbose = True\n",
        ")"
      ],
      "metadata": {
        "id": "D4QuvUfcVL4R"
      },
      "execution_count": 26,
      "outputs": []
    },
    {
      "cell_type": "code",
      "source": [
        "# MATCH path=(:Product)<-[:SUPPLIES]-(c:Supplier)\n",
        "# where c.country = \"Finland\"\n",
        "# RETURN path;\n",
        "# Returns: Karkki supplies 3 products: Maxilaku, Valkoinen suklaa, Lakkalikööri\n",
        "\n",
        "chain.invoke({\"query\": \"Which products are supplied by Karkki Oy?\"})"
      ],
      "metadata": {
        "id": "Q92iEpkLX9Pa",
        "colab": {
          "base_uri": "https://localhost:8080/"
        },
        "outputId": "19bce1b0-3876-4c92-f027-852de4dfd91e",
        "collapsed": true
      },
      "execution_count": 27,
      "outputs": [
        {
          "output_type": "stream",
          "name": "stdout",
          "text": [
            "\n",
            "\n",
            "\u001b[1m> Entering new GraphCypherQAChain chain...\u001b[0m\n",
            "Generated Cypher:\n",
            "\u001b[32;1m\u001b[1;3mcypher\n",
            "MATCH (s:Supplier {companyName: \"Karkki Oy\"})-[:SUPPLIES]->(p:Product)\n",
            "RETURN p.productID, p.productName\n",
            "\u001b[0m\n",
            "Full Context:\n",
            "\u001b[32;1m\u001b[1;3m[{'p.productID': '49', 'p.productName': 'Maxilaku'}, {'p.productID': '50', 'p.productName': 'Valkoinen suklaa'}, {'p.productID': '76', 'p.productName': 'Lakkalikööri'}]\u001b[0m\n",
            "\n",
            "\u001b[1m> Finished chain.\u001b[0m\n"
          ]
        },
        {
          "output_type": "execute_result",
          "data": {
            "text/plain": [
              "{'query': 'Which products are supplied by Karkki Oy?',\n",
              " 'result': 'Maxilaku, Valkoinen suklaa, Lakkalikööri are supplied by Karkki Oy.'}"
            ]
          },
          "metadata": {},
          "execution_count": 27
        }
      ]
    }
  ]
}