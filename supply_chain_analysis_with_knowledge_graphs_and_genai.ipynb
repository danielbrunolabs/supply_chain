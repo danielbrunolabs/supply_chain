{
  "nbformat": 4,
  "nbformat_minor": 0,
  "metadata": {
    "colab": {
      "provenance": [],
      "authorship_tag": "ABX9TyMPBugb2xcID7oLvY6REcPG",
      "include_colab_link": true
    },
    "kernelspec": {
      "name": "python3",
      "display_name": "Python 3"
    },
    "language_info": {
      "name": "python"
    },
    "widgets": {
      "application/vnd.jupyter.widget-state+json": {
        "1616806f956446df9312da72882a2b14": {
          "model_module": "yfiles-jupyter-graphs",
          "model_name": "GraphModel",
          "model_module_version": "^1.9.0",
          "state": {
            "_context_pane_mapping": [
              {
                "id": "Neighborhood",
                "title": "Neighborhood"
              },
              {
                "id": "Data",
                "title": "Data"
              },
              {
                "id": "Search",
                "title": "Search"
              },
              {
                "id": "About",
                "title": "About"
              }
            ],
            "_data_importer": "neo4j",
            "_directed": true,
            "_dom_classes": [],
            "_edges": [
              {
                "id": 1152921504606847000,
                "start": 0,
                "end": 53,
                "properties": {
                  "label": "IN_REGION"
                },
                "label": "IN_REGION",
                "color": "#F44336",
                "thickness_factor": 1,
                "directed": true
              },
              {
                "id": 1152921504606847000,
                "start": 1,
                "end": 53,
                "properties": {
                  "label": "IN_REGION"
                },
                "label": "IN_REGION",
                "color": "#F44336",
                "thickness_factor": 1,
                "directed": true
              },
              {
                "id": 1152921504606847000,
                "start": 2,
                "end": 53,
                "properties": {
                  "label": "IN_REGION"
                },
                "label": "IN_REGION",
                "color": "#F44336",
                "thickness_factor": 1,
                "directed": true
              },
              {
                "id": 1152921504606847000,
                "start": 3,
                "end": 53,
                "properties": {
                  "label": "IN_REGION"
                },
                "label": "IN_REGION",
                "color": "#F44336",
                "thickness_factor": 1,
                "directed": true
              },
              {
                "id": 1152921504606847000,
                "start": 4,
                "end": 53,
                "properties": {
                  "label": "IN_REGION"
                },
                "label": "IN_REGION",
                "color": "#F44336",
                "thickness_factor": 1,
                "directed": true
              },
              {
                "id": 1152921504606847000,
                "start": 5,
                "end": 53,
                "properties": {
                  "label": "IN_REGION"
                },
                "label": "IN_REGION",
                "color": "#F44336",
                "thickness_factor": 1,
                "directed": true
              },
              {
                "id": 1152921504606847000,
                "start": 6,
                "end": 53,
                "properties": {
                  "label": "IN_REGION"
                },
                "label": "IN_REGION",
                "color": "#F44336",
                "thickness_factor": 1,
                "directed": true
              },
              {
                "id": 1152921504606847000,
                "start": 7,
                "end": 55,
                "properties": {
                  "label": "IN_REGION"
                },
                "label": "IN_REGION",
                "color": "#F44336",
                "thickness_factor": 1,
                "directed": true
              },
              {
                "id": 1152921504606847000,
                "start": 8,
                "end": 55,
                "properties": {
                  "label": "IN_REGION"
                },
                "label": "IN_REGION",
                "color": "#F44336",
                "thickness_factor": 1,
                "directed": true
              },
              {
                "id": 1152921504606847000,
                "start": 9,
                "end": 53,
                "properties": {
                  "label": "IN_REGION"
                },
                "label": "IN_REGION",
                "color": "#F44336",
                "thickness_factor": 1,
                "directed": true
              },
              {
                "id": 1152921504606847000,
                "start": 10,
                "end": 53,
                "properties": {
                  "label": "IN_REGION"
                },
                "label": "IN_REGION",
                "color": "#F44336",
                "thickness_factor": 1,
                "directed": true
              },
              {
                "id": 1152921504606847000,
                "start": 11,
                "end": 53,
                "properties": {
                  "label": "IN_REGION"
                },
                "label": "IN_REGION",
                "color": "#F44336",
                "thickness_factor": 1,
                "directed": true
              },
              {
                "id": 1152921504606847000,
                "start": 12,
                "end": 53,
                "properties": {
                  "label": "IN_REGION"
                },
                "label": "IN_REGION",
                "color": "#F44336",
                "thickness_factor": 1,
                "directed": true
              },
              {
                "id": 1152921504606847000,
                "start": 13,
                "end": 53,
                "properties": {
                  "label": "IN_REGION"
                },
                "label": "IN_REGION",
                "color": "#F44336",
                "thickness_factor": 1,
                "directed": true
              },
              {
                "id": 1152921504606847000,
                "start": 14,
                "end": 53,
                "properties": {
                  "label": "IN_REGION"
                },
                "label": "IN_REGION",
                "color": "#F44336",
                "thickness_factor": 1,
                "directed": true
              },
              {
                "id": 1152921504606847000,
                "start": 15,
                "end": 53,
                "properties": {
                  "label": "IN_REGION"
                },
                "label": "IN_REGION",
                "color": "#F44336",
                "thickness_factor": 1,
                "directed": true
              },
              {
                "id": 1152921504606847000,
                "start": 16,
                "end": 55,
                "properties": {
                  "label": "IN_REGION"
                },
                "label": "IN_REGION",
                "color": "#F44336",
                "thickness_factor": 1,
                "directed": true
              },
              {
                "id": 1152921504606847000,
                "start": 17,
                "end": 53,
                "properties": {
                  "label": "IN_REGION"
                },
                "label": "IN_REGION",
                "color": "#F44336",
                "thickness_factor": 1,
                "directed": true
              },
              {
                "id": 1152921504606847000,
                "start": 18,
                "end": 53,
                "properties": {
                  "label": "IN_REGION"
                },
                "label": "IN_REGION",
                "color": "#F44336",
                "thickness_factor": 1,
                "directed": true
              },
              {
                "id": 1152921504606847000,
                "start": 19,
                "end": 53,
                "properties": {
                  "label": "IN_REGION"
                },
                "label": "IN_REGION",
                "color": "#F44336",
                "thickness_factor": 1,
                "directed": true
              }
            ],
            "_graph_layout": {},
            "_highlight": [],
            "_license": {},
            "_model_module": "yfiles-jupyter-graphs",
            "_model_module_version": "^1.9.0",
            "_model_name": "GraphModel",
            "_neighborhood": {},
            "_nodes": [
              {
                "id": 0,
                "properties": {
                  "territoryDescription": "Westboro",
                  "territoryID": "01581",
                  "label": "Territory"
                },
                "color": "#2196F3",
                "styles": {},
                "label": "Territory",
                "scale_factor": 1,
                "type": "#2196F3",
                "size": [
                  55,
                  55
                ],
                "position": [
                  0,
                  0
                ]
              },
              {
                "id": 53,
                "properties": {
                  "regionID": "1",
                  "regionDescription": "Eastern",
                  "label": "Region"
                },
                "color": "#4CAF50",
                "styles": {},
                "label": "Region",
                "scale_factor": 1,
                "type": "#4CAF50",
                "size": [
                  55,
                  55
                ],
                "position": [
                  0,
                  0
                ]
              },
              {
                "id": 1,
                "properties": {
                  "territoryDescription": "Bedford",
                  "territoryID": "01730",
                  "label": "Territory"
                },
                "color": "#2196F3",
                "styles": {},
                "label": "Territory",
                "scale_factor": 1,
                "type": "#2196F3",
                "size": [
                  55,
                  55
                ],
                "position": [
                  0,
                  0
                ]
              },
              {
                "id": 2,
                "properties": {
                  "territoryDescription": "Georgetow",
                  "territoryID": "01833",
                  "label": "Territory"
                },
                "color": "#2196F3",
                "styles": {},
                "label": "Territory",
                "scale_factor": 1,
                "type": "#2196F3",
                "size": [
                  55,
                  55
                ],
                "position": [
                  0,
                  0
                ]
              },
              {
                "id": 3,
                "properties": {
                  "territoryDescription": "Boston",
                  "territoryID": "02116",
                  "label": "Territory"
                },
                "color": "#2196F3",
                "styles": {},
                "label": "Territory",
                "scale_factor": 1,
                "type": "#2196F3",
                "size": [
                  55,
                  55
                ],
                "position": [
                  0,
                  0
                ]
              },
              {
                "id": 4,
                "properties": {
                  "territoryDescription": "Cambridge",
                  "territoryID": "02139",
                  "label": "Territory"
                },
                "color": "#2196F3",
                "styles": {},
                "label": "Territory",
                "scale_factor": 1,
                "type": "#2196F3",
                "size": [
                  55,
                  55
                ],
                "position": [
                  0,
                  0
                ]
              },
              {
                "id": 5,
                "properties": {
                  "territoryDescription": "Braintree",
                  "territoryID": "02184",
                  "label": "Territory"
                },
                "color": "#2196F3",
                "styles": {},
                "label": "Territory",
                "scale_factor": 1,
                "type": "#2196F3",
                "size": [
                  55,
                  55
                ],
                "position": [
                  0,
                  0
                ]
              },
              {
                "id": 6,
                "properties": {
                  "territoryDescription": "Providence",
                  "territoryID": "02903",
                  "label": "Territory"
                },
                "color": "#2196F3",
                "styles": {},
                "label": "Territory",
                "scale_factor": 1,
                "type": "#2196F3",
                "size": [
                  55,
                  55
                ],
                "position": [
                  0,
                  0
                ]
              },
              {
                "id": 7,
                "properties": {
                  "territoryDescription": "Hollis",
                  "territoryID": "03049",
                  "label": "Territory"
                },
                "color": "#2196F3",
                "styles": {},
                "label": "Territory",
                "scale_factor": 1,
                "type": "#2196F3",
                "size": [
                  55,
                  55
                ],
                "position": [
                  0,
                  0
                ]
              },
              {
                "id": 55,
                "properties": {
                  "regionID": "3",
                  "regionDescription": "Northern",
                  "label": "Region"
                },
                "color": "#4CAF50",
                "styles": {},
                "label": "Region",
                "scale_factor": 1,
                "type": "#4CAF50",
                "size": [
                  55,
                  55
                ],
                "position": [
                  0,
                  0
                ]
              },
              {
                "id": 8,
                "properties": {
                  "territoryDescription": "Portsmouth",
                  "territoryID": "03801",
                  "label": "Territory"
                },
                "color": "#2196F3",
                "styles": {},
                "label": "Territory",
                "scale_factor": 1,
                "type": "#2196F3",
                "size": [
                  55,
                  55
                ],
                "position": [
                  0,
                  0
                ]
              },
              {
                "id": 9,
                "properties": {
                  "territoryDescription": "Wilton",
                  "territoryID": "06897",
                  "label": "Territory"
                },
                "color": "#2196F3",
                "styles": {},
                "label": "Territory",
                "scale_factor": 1,
                "type": "#2196F3",
                "size": [
                  55,
                  55
                ],
                "position": [
                  0,
                  0
                ]
              },
              {
                "id": 10,
                "properties": {
                  "territoryDescription": "Morristown",
                  "territoryID": "07960",
                  "label": "Territory"
                },
                "color": "#2196F3",
                "styles": {},
                "label": "Territory",
                "scale_factor": 1,
                "type": "#2196F3",
                "size": [
                  55,
                  55
                ],
                "position": [
                  0,
                  0
                ]
              },
              {
                "id": 11,
                "properties": {
                  "territoryDescription": "Edison",
                  "territoryID": "08837",
                  "label": "Territory"
                },
                "color": "#2196F3",
                "styles": {},
                "label": "Territory",
                "scale_factor": 1,
                "type": "#2196F3",
                "size": [
                  55,
                  55
                ],
                "position": [
                  0,
                  0
                ]
              },
              {
                "id": 12,
                "properties": {
                  "territoryDescription": "NewYork",
                  "territoryID": "10019",
                  "label": "Territory"
                },
                "color": "#2196F3",
                "styles": {},
                "label": "Territory",
                "scale_factor": 1,
                "type": "#2196F3",
                "size": [
                  55,
                  55
                ],
                "position": [
                  0,
                  0
                ]
              },
              {
                "id": 13,
                "properties": {
                  "territoryDescription": "NewYork",
                  "territoryID": "10038",
                  "label": "Territory"
                },
                "color": "#2196F3",
                "styles": {},
                "label": "Territory",
                "scale_factor": 1,
                "type": "#2196F3",
                "size": [
                  55,
                  55
                ],
                "position": [
                  0,
                  0
                ]
              },
              {
                "id": 14,
                "properties": {
                  "territoryDescription": "Mellvile",
                  "territoryID": "11747",
                  "label": "Territory"
                },
                "color": "#2196F3",
                "styles": {},
                "label": "Territory",
                "scale_factor": 1,
                "type": "#2196F3",
                "size": [
                  55,
                  55
                ],
                "position": [
                  0,
                  0
                ]
              },
              {
                "id": 15,
                "properties": {
                  "territoryDescription": "Fairport",
                  "territoryID": "14450",
                  "label": "Territory"
                },
                "color": "#2196F3",
                "styles": {},
                "label": "Territory",
                "scale_factor": 1,
                "type": "#2196F3",
                "size": [
                  55,
                  55
                ],
                "position": [
                  0,
                  0
                ]
              },
              {
                "id": 16,
                "properties": {
                  "territoryDescription": "Philadelphia",
                  "territoryID": "19428",
                  "label": "Territory"
                },
                "color": "#2196F3",
                "styles": {},
                "label": "Territory",
                "scale_factor": 1,
                "type": "#2196F3",
                "size": [
                  55,
                  55
                ],
                "position": [
                  0,
                  0
                ]
              },
              {
                "id": 17,
                "properties": {
                  "territoryDescription": "Neward",
                  "territoryID": "19713",
                  "label": "Territory"
                },
                "color": "#2196F3",
                "styles": {},
                "label": "Territory",
                "scale_factor": 1,
                "type": "#2196F3",
                "size": [
                  55,
                  55
                ],
                "position": [
                  0,
                  0
                ]
              },
              {
                "id": 18,
                "properties": {
                  "territoryDescription": "Rockville",
                  "territoryID": "20852",
                  "label": "Territory"
                },
                "color": "#2196F3",
                "styles": {},
                "label": "Territory",
                "scale_factor": 1,
                "type": "#2196F3",
                "size": [
                  55,
                  55
                ],
                "position": [
                  0,
                  0
                ]
              },
              {
                "id": 19,
                "properties": {
                  "territoryDescription": "Greensboro",
                  "territoryID": "27403",
                  "label": "Territory"
                },
                "color": "#2196F3",
                "styles": {},
                "label": "Territory",
                "scale_factor": 1,
                "type": "#2196F3",
                "size": [
                  55,
                  55
                ],
                "position": [
                  0,
                  0
                ]
              }
            ],
            "_overview": {
              "enabled": null,
              "overview_set": false
            },
            "_selected_graph": [
              [],
              [
                {
                  "id": 1152921504606847000,
                  "start": 1,
                  "end": 53,
                  "properties": {
                    "label": "IN_REGION"
                  }
                }
              ]
            ],
            "_sidebar": {
              "enabled": false,
              "start_with": null
            },
            "_view_count": null,
            "_view_module": "yfiles-jupyter-graphs",
            "_view_module_version": "^1.9.0",
            "_view_name": "GraphView",
            "layout": "IPY_MODEL_1373e0c1a33748dcafda5280ce39ab84",
            "tabbable": null,
            "tooltip": null
          }
        },
        "1373e0c1a33748dcafda5280ce39ab84": {
          "model_module": "@jupyter-widgets/base",
          "model_name": "LayoutModel",
          "model_module_version": "2.0.0",
          "state": {
            "_model_module": "@jupyter-widgets/base",
            "_model_module_version": "2.0.0",
            "_model_name": "LayoutModel",
            "_view_count": null,
            "_view_module": "@jupyter-widgets/base",
            "_view_module_version": "2.0.0",
            "_view_name": "LayoutView",
            "align_content": null,
            "align_items": null,
            "align_self": null,
            "border_bottom": null,
            "border_left": null,
            "border_right": null,
            "border_top": null,
            "bottom": null,
            "display": null,
            "flex": null,
            "flex_flow": null,
            "grid_area": null,
            "grid_auto_columns": null,
            "grid_auto_flow": null,
            "grid_auto_rows": null,
            "grid_column": null,
            "grid_gap": null,
            "grid_row": null,
            "grid_template_areas": null,
            "grid_template_columns": null,
            "grid_template_rows": null,
            "height": "720px",
            "justify_content": null,
            "justify_items": null,
            "left": null,
            "margin": null,
            "max_height": null,
            "max_width": null,
            "min_height": null,
            "min_width": null,
            "object_fit": null,
            "object_position": null,
            "order": null,
            "overflow": null,
            "padding": null,
            "right": null,
            "top": null,
            "visibility": null,
            "width": "100%"
          }
        }
      }
    }
  },
  "cells": [
    {
      "cell_type": "markdown",
      "metadata": {
        "id": "view-in-github",
        "colab_type": "text"
      },
      "source": [
        "<a href=\"https://colab.research.google.com/github/danielbrunolabs/supply_chain/blob/main/supply_chain_analysis_with_knowledge_graphs_and_genai.ipynb\" target=\"_parent\"><img src=\"https://colab.research.google.com/assets/colab-badge.svg\" alt=\"Open In Colab\"/></a>"
      ]
    },
    {
      "cell_type": "code",
      "execution_count": 2,
      "metadata": {
        "id": "-0HC-oxUx_Nd"
      },
      "outputs": [],
      "source": [
        "import os\n",
        "from google.colab import userdata\n",
        "\n",
        "NEO4J_URI = userdata.get('NEO4J_URI') #https://console.neo4j.io/\n",
        "NEO4J_USER_NAME = userdata.get('NEO4J_USER_NAME')\n",
        "NEO4J_PASSWORD = userdata.get('NEO4J_PASSWORD')\n",
        "AZURE_OPEN_AI_KEY = userdata.get('AZURE_OPEN_AI_KEY')\n",
        "AZURE_OPENAI_ENDPOINT = userdata.get('AZURE_OPENAI_ENDPOINT')\n",
        "\n",
        "os.environ[\"AZURE_OPENAI_API_KEY\"] = AZURE_OPEN_AI_KEY\n",
        "os.environ[\"AZURE_OPENAI_ENDPOINT\"] = AZURE_OPENAI_ENDPOINT"
      ]
    },
    {
      "cell_type": "code",
      "source": [
        "%%capture\n",
        "%pip install yfiles_jupyter_graphs --quiet\n",
        "%pip install pandas py2neo langchain langchain-openai langchain_community neo4j"
      ],
      "metadata": {
        "id": "QTLT43uUzPf4"
      },
      "execution_count": 16,
      "outputs": []
    },
    {
      "cell_type": "code",
      "source": [
        "from langchain_openai.chat_models import AzureChatOpenAI\n",
        "from langchain.chains import GraphCypherQAChain\n",
        "from langchain.graphs import Neo4jGraph\n",
        "from neo4j import GraphDatabase"
      ],
      "metadata": {
        "id": "owbBqa9Z0Jed"
      },
      "execution_count": 20,
      "outputs": []
    },
    {
      "cell_type": "code",
      "source": [
        "graph = Neo4jGraph(\n",
        "    url = NEO4J_URI,\n",
        "    username = NEO4J_USER_NAME,\n",
        "    password = NEO4J_PASSWORD\n",
        ")"
      ],
      "metadata": {
        "id": "6atKA2vCVhb5"
      },
      "execution_count": 14,
      "outputs": []
    },
    {
      "cell_type": "code",
      "source": [
        "from yfiles_jupyter_graphs import GraphWidget\n",
        "\n",
        "try:\n",
        "  import google.colab\n",
        "  from google.colab import output\n",
        "  output.enable_custom_widget_manager()\n",
        "except:\n",
        "  pass\n",
        "\n",
        "# create a neo4j session to run queries\n",
        "driver = GraphDatabase.driver(uri = NEO4J_URI, auth = (NEO4J_USER_NAME, NEO4J_PASSWORD), database = 'neo4j')\n",
        "session = driver.session()\n",
        "\n",
        "# directly show the graph resulting from the given Cypher query\n",
        "def showGraph(cypher: str):\n",
        "    widget = GraphWidget(graph = session.run(cypher).graph())\n",
        "    display(widget)\n",
        "    return widget\n",
        "\n",
        "w = showGraph(\"MATCH (s)-[r]->(t) RETURN s,r,t LIMIT 20\")"
      ],
      "metadata": {
        "id": "WZVsp1JzVlJ6",
        "outputId": "bf2d1844-6cf8-4764-c13b-d2c7dc39f4e2",
        "colab": {
          "base_uri": "https://localhost:8080/",
          "height": 737,
          "referenced_widgets": [
            "1616806f956446df9312da72882a2b14",
            "1373e0c1a33748dcafda5280ce39ab84"
          ]
        }
      },
      "execution_count": 21,
      "outputs": [
        {
          "output_type": "display_data",
          "data": {
            "text/plain": [
              "GraphWidget(layout=Layout(height='720px', width='100%'))"
            ],
            "application/vnd.jupyter.widget-view+json": {
              "version_major": 2,
              "version_minor": 0,
              "model_id": "1616806f956446df9312da72882a2b14"
            }
          },
          "metadata": {
            "application/vnd.jupyter.widget-view+json": {
              "colab": {
                "custom_widget_manager": {
                  "url": "https://ssl.gstatic.com/colaboratory-static/widgets/colab-cdn-widget-manager/2b70e893a8ba7c0f/manager.min.js"
                }
              }
            }
          }
        }
      ]
    },
    {
      "cell_type": "code",
      "source": [
        "chain = GraphCypherQAChain.from_llm(\n",
        "    AzureChatOpenAI(temperature=0,\n",
        "                    azure_deployment=\"gpt-4o\",\n",
        "                    api_version=\"2024-02-15-preview\",\n",
        "                    max_tokens=None,\n",
        "                    timeout=None,\n",
        "                    max_retries=2),\n",
        "    allow_dangerous_requests = True,\n",
        "    graph = graph,\n",
        "    verbose = True\n",
        ")"
      ],
      "metadata": {
        "id": "D4QuvUfcVL4R"
      },
      "execution_count": 7,
      "outputs": []
    },
    {
      "cell_type": "code",
      "source": [
        "# MATCH (s:Supplier {companyName: \"Karkki Oy\"})-[:SUPPLIES]->(p:Product)\n",
        "# RETURN p.productName\n",
        "# Returns: Karkki supplies 3 products: Maxilaku, Valkoinen suklaa, Lakkalikööri\n",
        "\n",
        "chain.invoke({\"query\": \"Which products are supplied by Karkki Oy?\"})"
      ],
      "metadata": {
        "id": "Q92iEpkLX9Pa",
        "colab": {
          "base_uri": "https://localhost:8080/"
        },
        "outputId": "8cb92c34-52e0-4dd8-bd0f-40aad75a68ea",
        "collapsed": true
      },
      "execution_count": 8,
      "outputs": [
        {
          "output_type": "stream",
          "name": "stdout",
          "text": [
            "\n",
            "\n",
            "\u001b[1m> Entering new GraphCypherQAChain chain...\u001b[0m\n",
            "Generated Cypher:\n",
            "\u001b[32;1m\u001b[1;3mcypher\n",
            "MATCH (s:Supplier {companyName: \"Karkki Oy\"})-[:SUPPLIES]->(p:Product)\n",
            "RETURN p.productName\n",
            "\u001b[0m\n",
            "Full Context:\n",
            "\u001b[32;1m\u001b[1;3m[{'p.productName': 'Maxilaku'}, {'p.productName': 'Valkoinen suklaa'}, {'p.productName': 'Lakkalikööri'}]\u001b[0m\n",
            "\n",
            "\u001b[1m> Finished chain.\u001b[0m\n"
          ]
        },
        {
          "output_type": "execute_result",
          "data": {
            "text/plain": [
              "{'query': 'Which products are supplied by Karkki Oy?',\n",
              " 'result': 'Maxilaku, Valkoinen suklaa, Lakkalikööri are supplied by Karkki Oy.'}"
            ]
          },
          "metadata": {},
          "execution_count": 8
        }
      ]
    }
  ]
}